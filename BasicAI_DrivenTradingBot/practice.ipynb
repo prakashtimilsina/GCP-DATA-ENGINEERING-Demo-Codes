{
 "cells": [
  {
   "cell_type": "code",
   "execution_count": 2,
   "id": "ca1cf6bd",
   "metadata": {},
   "outputs": [
    {
     "name": "stdout",
     "output_type": "stream",
     "text": [
      "even list: [2, 4]\n"
     ]
    }
   ],
   "source": [
    "list = [1, 2, 3, 4, 5]\n",
    "even_list = [x for x in list if x % 2 == 0]\n",
    "print(f\"even list: {even_list}\")"
   ]
  }
 ],
 "metadata": {
  "kernelspec": {
   "display_name": "Python 3",
   "language": "python",
   "name": "python3"
  },
  "language_info": {
   "codemirror_mode": {
    "name": "ipython",
    "version": 3
   },
   "file_extension": ".py",
   "mimetype": "text/x-python",
   "name": "python",
   "nbconvert_exporter": "python",
   "pygments_lexer": "ipython3",
   "version": "3.10.7"
  }
 },
 "nbformat": 4,
 "nbformat_minor": 5
}
