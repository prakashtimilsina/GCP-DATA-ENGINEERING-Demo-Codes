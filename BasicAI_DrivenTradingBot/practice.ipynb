{
 "cells": [
  {
   "cell_type": "code",
   "execution_count": 2,
   "id": "ca1cf6bd",
   "metadata": {},
   "outputs": [
    {
     "name": "stdout",
     "output_type": "stream",
     "text": [
      "even list: [2, 4]\n"
     ]
    }
   ],
   "source": [
    "list = [1, 2, 3, 4, 5]\n",
    "even_list = [x for x in list if x % 2 == 0]\n",
    "print(f\"even list: {even_list}\")"
   ]
  },
  {
   "cell_type": "code",
   "execution_count": 3,
   "id": "48741b56",
   "metadata": {
    "vscode": {
     "languageId": "ruby"
    }
   },
   "outputs": [],
   "source": [
    "class Car:\n",
    "    # contructor to initialize the car's attributes\n",
    "    def __init__(self, make, model, year):\n",
    "        self.make = make\n",
    "        self.model = model\n",
    "        self.year = year\n",
    "        self.odometer_reading = 0 # default odometer reading\n",
    "\n",
    "    # Method to describe the car\n",
    "    def describe(self):\n",
    "        return f\"{self.year} {self.make} {self.model}\"\n",
    "    \n",
    "    # Method to read the odometer:\n",
    "    def read_odometer(self):\n",
    "        return f\"This car has {self.odometer_reading} miles on it.\"\n",
    "    \n",
    "    # Method to update the odometer reading\n",
    "    def update_odometer(self, mileage):\n",
    "        if mileage >= self.odometer_reading:\n",
    "            self.odometer_reading = mileage\n",
    "        else:\n",
    "            print(\"You can't roll back the odometer!\")\n",
    "    \n",
    "    # Method to update the odometer reading\n",
    "    def increment_odometer(self, miles):\n",
    "        if miles > 0:\n",
    "            self.odometer_reading += miles\n",
    "        else:\n",
    "            print(\"You can't increment by a negative number!\")\n",
    "    # Metho to increment the odometer reading\n",
    "    def increment_odometer(self, miles):\n",
    "        if miles >0:\n",
    "            self.odometer_reading += miles\n",
    "        else:\n",
    "            print(\"You can't increment by a negative number!\")"
   ]
  },
  {
   "cell_type": "code",
   "execution_count": 8,
   "id": "e1968c39",
   "metadata": {
    "vscode": {
     "languageId": "ruby"
    }
   },
   "outputs": [
    {
     "name": "stdout",
     "output_type": "stream",
     "text": [
      "2020 Toyota Corolla\n",
      "This car has 0 miles on it.\n"
     ]
    }
   ],
   "source": [
    "# Creating an instance of the Car class\n",
    "my_car = Car(\"Toyota\", \"Corolla\", 2020)\n",
    "\n",
    "# Describing the car\n",
    "print(my_car.describe())\n",
    "print(my_car.read_odometer())"
   ]
  },
  {
   "cell_type": "code",
   "execution_count": 15,
   "id": "a2bd5d03",
   "metadata": {
    "vscode": {
     "languageId": "ruby"
    }
   },
   "outputs": [
    {
     "name": "stdout",
     "output_type": "stream",
     "text": [
      "You can't roll back the odometer!\n",
      "This car has 40 miles on it.\n",
      "This car has 45 miles on it.\n"
     ]
    }
   ],
   "source": [
    "# Updating the odometer reading\n",
    "my_car.update_odometer(15)\n",
    "print(my_car.read_odometer())\n",
    "\n",
    "my_car.increment_odometer(5)\n",
    "print(my_car.read_odometer())   "
   ]
  },
  {
   "cell_type": "code",
   "execution_count": 17,
   "id": "0cee43ea",
   "metadata": {
    "vscode": {
     "languageId": "ruby"
    }
   },
   "outputs": [
    {
     "name": "stdout",
     "output_type": "stream",
     "text": [
      "2026 Tesla Model X\n",
      "This car has a 75-kwh battery.\n",
      "This car has 0 miles on it.\n"
     ]
    }
   ],
   "source": [
    "# Inheritance Example:\n",
    "class ElectricCar(Car):\n",
    "    def __init__(self, make, model, year):\n",
    "        super().__init__(make, model, year)\n",
    "        self.battery_size = 75 # default battery size in kWh\n",
    "    def describe_battery(self):\n",
    "        return f\"This car has a {self.battery_size}-kwh battery.\"\n",
    "\n",
    "\n",
    "# Creating an instance of the ElectricCar class\n",
    "my_electric_car = ElectricCar(\"Tesla\", \"Model X\", 2026)\n",
    "\n",
    "# Describing the electric car\n",
    "print(my_electric_car.describe())\n",
    "print(my_electric_car.describe_battery())\n",
    "print(my_electric_car.read_odometer())"
   ]
  },
  {
   "cell_type": "code",
   "execution_count": 22,
   "id": "fefc5f2a",
   "metadata": {
    "vscode": {
     "languageId": "ruby"
    }
   },
   "outputs": [
    {
     "name": "stdout",
     "output_type": "stream",
     "text": [
      "[0, 1]\n"
     ]
    }
   ],
   "source": [
    "#from typing import List\n",
    "\n",
    "class Solution:\n",
    "    def twoSum(self, nums: List[int], target: int)-> List[int]:\n",
    "        h = {}\n",
    "        for i in range(len(nums)):\n",
    "            h[nums[i]] = i \n",
    "        \n",
    "        for i in range(len(nums)):\n",
    "            y = target - nums[i]\n",
    "            if y in h and h[y] != i:\n",
    "                return [i, h[y]]\n",
    "\n",
    "nums = [2, 7, 11, 5, 4, 15]\n",
    "target = 9\n",
    "\n",
    "sol1 = Solution()\n",
    "result1 = sol1.twoSum(nums, target)\n",
    "print(result1)"
   ]
  },
  {
   "cell_type": "code",
   "execution_count": 23,
   "id": "4bf86abf",
   "metadata": {
    "vscode": {
     "languageId": "ruby"
    }
   },
   "outputs": [
    {
     "name": "stdout",
     "output_type": "stream",
     "text": [
      "[0, 1]\n"
     ]
    }
   ],
   "source": [
    "#from typing import List\n",
    "class Solution:\n",
    "    def twoSum(self, nums: List[int], target: int)-> List[int]:\n",
    "        for i in range(len(nums)):\n",
    "            for j in range(i + 1, len(nums)):\n",
    "                if (nums[i] + nums[j] == target):\n",
    "                    return [i, j]\n",
    "\n",
    "nums = [2, 7, 11, 5, 4, 15]\n",
    "target = 9\n",
    "\n",
    "sol1 = Solution()\n",
    "result1 = sol1.twoSum(nums, target)\n",
    "print(result1)"
   ]
  },
  {
   "cell_type": "code",
   "execution_count": 29,
   "id": "1d9f05af",
   "metadata": {
    "vscode": {
     "languageId": "ruby"
    }
   },
   "outputs": [
    {
     "name": "stdout",
     "output_type": "stream",
     "text": [
      "None\n"
     ]
    }
   ],
   "source": [
    "class Solution:\n",
    "    def twoSum(self, nums:List[int], target:int) -> List[int]:\n",
    "        number_to_index = {}\n",
    "        \n",
    "            \n",
    "        for i, number in enumerate(nums):\n",
    "            number_needed = target - number\n",
    "            if (number_needed in number_to_index and number_to_index[number_needed] != i):\n",
    "                return [i, number_to_index[number_needed]]\n",
    "        number_to_index[number] = i\n",
    "\n",
    "nums = [2, 7, 11, 5, 4, 2, 15]\n",
    "target = 9\n",
    "\n",
    "sol1 = Solution()\n",
    "result1 = sol1.twoSum(nums, target)\n",
    "print(result1)"
   ]
  },
  {
   "cell_type": "code",
   "execution_count": 36,
   "id": "730be399",
   "metadata": {
    "vscode": {
     "languageId": "ruby"
    }
   },
   "outputs": [
    {
     "name": "stdout",
     "output_type": "stream",
     "text": [
      "True\n"
     ]
    }
   ],
   "source": [
    "class Solution:\n",
    "    def isPalindrome (self, s: str)-> bool:\n",
    "        alphanumericSet = set('abcdefghijklmnopqrstuvwxyz0123456789ABCDEFGHIJKLMNOPQRSTUVWXYZ')\n",
    "        cleanS = ''\n",
    "        for c in s:\n",
    "            if c in alphanumericSet:\n",
    "                cleanS += c.lower()\n",
    "        return cleanS == cleanS[::-1]\n",
    "\n",
    "inputS = 'P$op'\n",
    "sol1 = Solution()\n",
    "print(sol1.isPalindrome(inputS))"
   ]
  },
  {
   "cell_type": "code",
   "execution_count": 49,
   "id": "6170de77",
   "metadata": {
    "vscode": {
     "languageId": "ruby"
    }
   },
   "outputs": [
    {
     "name": "stdout",
     "output_type": "stream",
     "text": [
      "12sdp Hello\n"
     ]
    }
   ],
   "source": [
    "def capitalize_full_name(full_name):\n",
    "    words = full_name.split(' ')\n",
    "    capitalized_words = [word[0].upper() + word[1:] if word else '' for word in words]\n",
    "    return ' '.join(capitalized_words)\n",
    "\n",
    "name = input().strip()\n",
    "\n",
    "print(capitalize_full_name(name))"
   ]
  },
  {
   "cell_type": "code",
   "execution_count": null,
   "id": "ed17eeac",
   "metadata": {
    "vscode": {
     "languageId": "ruby"
    }
   },
   "outputs": [],
   "source": []
  },
  {
   "cell_type": "code",
   "execution_count": 31,
   "id": "fa494134",
   "metadata": {
    "vscode": {
     "languageId": "ruby"
    }
   },
   "outputs": [
    {
     "name": "stdout",
     "output_type": "stream",
     "text": [
      "ABCDEFGHIJKLMNOPQRSTUVWXYZ\n"
     ]
    }
   ],
   "source": [
    "alphanumericSet = set('abc01234')\n",
    "print('abcdefghijklmnopqrstuvwxyz'.upper())"
   ]
  },
  {
   "cell_type": "code",
   "execution_count": 60,
   "id": "10e04bd1",
   "metadata": {
    "vscode": {
     "languageId": "ruby"
    }
   },
   "outputs": [
    {
     "name": "stdout",
     "output_type": "stream",
     "text": [
      "{(2, 4), (7, 7), (6, 5), (4, 3), (5, 4), (3, 2), (3, 5)}\n"
     ]
    }
   ],
   "source": [
    "l1 = [2,3,4,5,6,7,3,4]\n",
    "l2 = [4,5,3,4,5,7,2]\n",
    "l3 = zip(l1, l2)\n",
    "print(set(l3))"
   ]
  }
 ],
 "metadata": {
  "kernelspec": {
   "display_name": "Python 3",
   "language": "python",
   "name": "python3"
  },
  "language_info": {
   "codemirror_mode": {
    "name": "ipython",
    "version": 3
   },
   "file_extension": ".py",
   "mimetype": "text/x-python",
   "name": "python",
   "nbconvert_exporter": "python",
   "pygments_lexer": "ipython3",
   "version": "3.10.7"
  }
 },
 "nbformat": 4,
 "nbformat_minor": 5
}
